{
 "cells": [
  {
   "cell_type": "markdown",
   "metadata": {},
   "source": [
    "### Objectives\n",
    "- To create a mock pipeline based on the business model that students choose\n",
    "\n",
    "### Introduction\n",
    "\n",
    "Based on the previous readings, we will simulate how we can best determine\n",
    "- The state of the current system (legacy)\n",
    "- Whether we should migrate the system to cloud\n",
    "- (Optional) Designing the architecture of the cloud system\n"
   ]
  },
  {
   "cell_type": "markdown",
   "metadata": {},
   "source": [
    "### Problem Statement\n",
    "Suppose you're a decision maker in the engineering team at an eCommerce company which currently generates millions of dollars in net revenue. You have a legacy system that sits on company's data centers in remote locations, away from the headquarter where your office is. The engineering team and the data analytics team have made the decision that they would like to build a search engine, recommendation engine, and few other engines that require heavy machine learning models to increase the revenue for the company. As a decision maker, you need to assess the current system, and the engineering requirement for the future fiscal years. So you decide to answer some questions and prepare answers for the next leadership meeting.\n",
    "\n",
    "\n",
    "Currently, the capability of the data center is limited based on the square footage of the location, as well as the hardware that can be stored in the square footage. The data center resource is not only shared in the engineering team, but also within the supply chain team, logistics, HR's IT platform, and also with some other internal operations, like marketing, leadership, and also analytics team. The data centers have maxed out in terms of the hardware that they can support, and may be in need of expanding and opening up another data center."
   ]
  },
  {
   "cell_type": "markdown",
   "metadata": {},
   "source": [
    "#### Assumptions when solving this problem\n",
    "\n",
    "- The problem statement merely states the current business problem you're facing. The design of the hypothetical data center, like square footage, hardware capabilities, human resources are all something you can create! The limitation is one thing to keep in mind, that in any data center(s), you have ran out of spaces to add more hardware.\n",
    "- You can assume based on the revenue the company is making how much data is being generated per day.\n",
    "- Be creative! If you're using third party data, i.e. Adobe Target for audience targeting, how are we receiving that data? Will that data sit on our data center and will it take up the resources? These are free constraints that you can create, but be realistic."
   ]
  },
  {
   "cell_type": "markdown",
   "metadata": {},
   "source": [
    "1. What is the current cost of maintaining the remote data center location?"
   ]
  },
  {
   "cell_type": "code",
   "execution_count": 1,
   "metadata": {},
   "outputs": [
    {
     "data": {
      "text/plain": [
       "'\\nThe current cost of maintaining the remote data center location is $100,000 a year.\\n'"
      ]
     },
     "execution_count": 1,
     "metadata": {},
     "output_type": "execute_result"
    }
   ],
   "source": [
    "# your solution\n",
    "\"\"\"\n",
    "The current cost of maintaining the remote data center location is $100,000 a year.\n",
    "\"\"\""
   ]
  },
  {
   "cell_type": "markdown",
   "metadata": {},
   "source": [
    "2. What are the new business requirements from your engineering team? "
   ]
  },
  {
   "cell_type": "code",
   "execution_count": 2,
   "metadata": {},
   "outputs": [
    {
     "data": {
      "text/plain": [
       "'\\n- expand hardware capabilities horizontally\\n- expand hardware capabilities vertically at least for certain data center computers\\n- real estate investment depending on the locale, be able to return value on property\\n    - develop further to house an office(s)\\n'"
      ]
     },
     "execution_count": 2,
     "metadata": {},
     "output_type": "execute_result"
    }
   ],
   "source": [
    "# your solution, but be creative! It doesn't have to limit to the requirement from the problem statement\n",
    "\"\"\"\n",
    "- expand hardware capabilities horizontally\n",
    "- expand hardware capabilities vertically at least for certain data center computers\n",
    "- real estate investment depending on the locale, be able to return value on property\n",
    "    - develop further to house an office(s)\n",
    "\"\"\""
   ]
  },
  {
   "cell_type": "markdown",
   "metadata": {},
   "source": [
    "3. Based on the new business requirements, you decide that you need to start migrating (at least) your resources to the cloud system. What are some things that you may need to look into when considering migrating your legacy system to cloud?"
   ]
  },
  {
   "cell_type": "code",
   "execution_count": 4,
   "metadata": {},
   "outputs": [
    {
     "data": {
      "text/plain": [
       "\"\\n- do we want to do a shallow or deep conversion?\\n- what precautions are we taking with cybersecurity?\\n- do we want to develop the expanded data centers for use by the public?\\n- how available is the data going to be after it has been migrated to the cloud?\\n- how do we want to grow our talent's capabilities in our selected cloud partner's environment?\\n- what data are we prioritizing to migrate first?\\n- what is the timeline of transferring all of this information?\\n\""
      ]
     },
     "execution_count": 4,
     "metadata": {},
     "output_type": "execute_result"
    }
   ],
   "source": [
    "# your solution\n",
    "\"\"\"\n",
    "- do we want to do a shallow or deep conversion?\n",
    "- what precautions are we taking with cybersecurity?\n",
    "- do we want to develop the expanded data centers for use by the public?\n",
    "- how available is the data going to be after it has been migrated to the cloud?\n",
    "- how do we want to grow our talent's capabilities in our selected cloud partner's environment?\n",
    "- what data are we prioritizing to migrate first?\n",
    "- what is the timeline of transferring all of this information?\n",
    "\"\"\""
   ]
  },
  {
   "cell_type": "markdown",
   "metadata": {},
   "source": [
    "4. In the end, you'll need to pursuade leadership why you need to migrate a system to another place, i.e. cloud, when in the eyes of leadership, everything is working fine. Write out cons/pros based on the shared categories, like cost, human resources, etc."
   ]
  },
  {
   "cell_type": "code",
   "execution_count": 5,
   "metadata": {
    "scrolled": true
   },
   "outputs": [
    {
     "data": {
      "text/plain": [
       "'\\nPros:\\n- system will run more efficiently and reduce variable cost; all services are housed in evnironment\\n- people will manage certain processes which will drive a lowered cost in labor\\n- competitive advantage to similarly positioned eCommerce companies who have not made the transition\\n- will allow us to build a search engine, recommendation engine, and few other engines that will delight customers\\n- speed of processing transactions will be more efficient and quick\\n- drive business to more sales as result of new features of eCommerce website\\nCons: \\n- data may not be as quick to be retrieved\\n- will need to be more diligent and possibly spend more on cybersecurity\\n- will likely need to lean on consultants to assist in the data conversion and partner selection\\n- risk to data integrity by potentially losing data in conversion process; important to manage process of conversion well\\n- transformation will take a long time and may involve outage periods where we are unable to leverage our data for periods\\n- risk that migration could potentially affect current processes and disrupt currently efficient operations\\n'"
      ]
     },
     "execution_count": 5,
     "metadata": {},
     "output_type": "execute_result"
    }
   ],
   "source": [
    "# your solution\n",
    "\"\"\"\n",
    "Pros:\n",
    "- system will run more efficiently and reduce variable cost; all services are housed in evnironment\n",
    "- people will manage certain processes which will drive a lowered cost in labor\n",
    "- competitive advantage to similarly positioned eCommerce companies who have not made the transition\n",
    "- will allow us to build a search engine, recommendation engine, and few other engines that will delight customers\n",
    "- speed of processing transactions will be more efficient and quick\n",
    "- drive business to more sales as result of new features of eCommerce website\n",
    "Cons: \n",
    "- data may not be as quick to be retrieved\n",
    "- will need to be more diligent and possibly spend more on cybersecurity\n",
    "- will likely need to lean on consultants to assist in the data conversion and partner selection\n",
    "- risk to data integrity by potentially losing data in conversion process; important to manage process of conversion well\n",
    "- transformation will take a long time and may involve outage periods where we are unable to leverage our data for periods\n",
    "- risk that migration could potentially affect current processes and disrupt currently efficient operations\n",
    "\"\"\""
   ]
  },
  {
   "cell_type": "markdown",
   "metadata": {},
   "source": [
    "(OPTIONAL) This may require an engineering/software background. You have the same hypothetical machine learning architecture, but one on the legacy system and one on the cloud. Moving away from the business logic, what is the benefit on the engineering stack if we use the cloud? What can be problematic if we use the cloud?"
   ]
  },
  {
   "cell_type": "code",
   "execution_count": 6,
   "metadata": {},
   "outputs": [
    {
     "data": {
      "text/plain": [
       "\"\\nThe engineering stack will be disrupted by the change to using cloud instead of operating locally, and the team will need \\nto learn the new partner's cloud platform to handle their job effectively. However, the benefit is that this frees up the\\nteams resources, time, and effort to focus on data engineering instead of troubleshooting problems with an internally\\nimplemented data repository. \\n\""
      ]
     },
     "execution_count": 6,
     "metadata": {},
     "output_type": "execute_result"
    }
   ],
   "source": [
    "# your solution, attach a screenshot of a hypothetical architecture at a high level\n",
    "\"\"\"\n",
    "The engineering stack will be disrupted by the change to using cloud instead of operating locally, and the team will need \n",
    "to learn the new partner's cloud platform to handle their job effectively. However, the benefit is that this frees up the\n",
    "teams resources, time, and effort to focus on data engineering instead of troubleshooting problems with an internally\n",
    "implemented data repository. \n",
    "\"\"\""
   ]
  }
 ],
 "metadata": {
  "kernelspec": {
   "display_name": "Python 3",
   "language": "python",
   "name": "python3"
  },
  "language_info": {
   "codemirror_mode": {
    "name": "ipython",
    "version": 3
   },
   "file_extension": ".py",
   "mimetype": "text/x-python",
   "name": "python",
   "nbconvert_exporter": "python",
   "pygments_lexer": "ipython3",
   "version": "3.8.5"
  }
 },
 "nbformat": 4,
 "nbformat_minor": 5
}
